{
 "cells": [
  {
   "cell_type": "markdown",
   "metadata": {},
   "source": [
    "# CISC 520 -- Executive Session 1\n",
    "\n",
    "In this session, we discussed some basic Python coding and a few of the libraries that we will be using throughout the course. Specifically, we discussed numpy, which provides a Python interface to FORTRAN and C libraries for rapid numerical processing, as well as access to arrays. We also discussed matplotlib and how to use it to create a few common types of plot.\n",
    "\n",
    "First, we'll use numpy to import some data from a file."
   ]
  },
  {
   "cell_type": "code",
   "execution_count": 1,
   "metadata": {},
   "outputs": [],
   "source": [
    "# import the numpy module, and assign it the name \"np\".\n",
    "import numpy as np\n",
    "\n",
    "# Define the name of the file to be opened. Note that this is a \"relative\" path to the file, and thus will only work\n",
    "# if the file exists in the same folder as the ipython notebook. Otherwise, you will need to specify the absolute path \n",
    "# to the file.\n",
    "source_file = \"./voltage_3.csv\"\n",
    "\n",
    "# the genfromtxt function opens a CSV file and returned a 2D numpy array of its contents.\n",
    "data = np.genfromtxt(source_file, dtype='float32', delimiter=',', skip_header=1)"
   ]
  },
  {
   "cell_type": "code",
   "execution_count": 3,
   "metadata": {},
   "outputs": [
    {
     "name": "stdout",
     "output_type": "stream",
     "text": [
      "1:\t0.5012571811676025\n",
      "2:\t[-5.078383  -5.0828547 -5.0895634 ... -5.0652857 -5.067841  -5.0697575]\n",
      "3:\t[ 5.0020218e-03  7.1938820e+00  5.0157672e-01 -6.2184176e+00\n",
      " -1.4782881e+00 -5.1020217e+00  5.8765596e-01  3.0806065e-02]\n",
      "4:\t0.0\n"
     ]
    }
   ],
   "source": [
    "# The variable \"data\" contains a 2D array of values from the CSV file. As such, you can reference a single value like so,\n",
    "print(\"1:\\t{}\".format(data[1,2]))\n",
    "\n",
    "# or a column of data\n",
    "print(\"2:\\t{}\".format(data[:,5]))\n",
    "\n",
    "# or a row of data\n",
    "print(\"3:\\t{}\".format(data[5,:]))\n",
    "\n",
    "# NB: Python starts array indices at 0, rather than 1 (like R or MatLab). So, if you are more familiar with one of those\n",
    "# languages, keep an eye out. The first cell in the CSV file is,\n",
    "print(\"4:\\t{}\".format(data[0,0]))"
   ]
  },
  {
   "cell_type": "code",
   "execution_count": 4,
   "metadata": {},
   "outputs": [],
   "source": [
    "# Using numpy, we can calculate some basic summary statistics from the contents of these arrays. \n",
    "# For example, the mean of a column can be had,\n",
    "mean_1 = np.average(data[:,1])\n",
    "\n",
    "# as well as the standard deviation\n",
    "std_1 = np.std(data[:,1])"
   ]
  },
  {
   "cell_type": "code",
   "execution_count": 5,
   "metadata": {},
   "outputs": [],
   "source": [
    "# Of course, our data file has many columns. So let's calculate summary statistics for all of them\n",
    "# We will accomplish this task by looping over the data and storing the mean and std for each column\n",
    "# in an array.\n",
    "\n",
    "# First, we'll create the arrays.\n",
    "means = np.empty(8, 'float32')\n",
    "stds = np.empty(8, 'float32')\n",
    "\n",
    "# And now we'll use a for loop to calculate each mean and standard deviation.\n",
    "for i in range(8):\n",
    "    means[i] = np.average(data[:,i])\n",
    "    stds[i] = np.std(data[:,i])"
   ]
  },
  {
   "cell_type": "code",
   "execution_count": 6,
   "metadata": {},
   "outputs": [
    {
     "name": "stdout",
     "output_type": "stream",
     "text": [
      "[ 2.4999983e+00  7.1212912e+00  4.9389374e-01 -6.1670446e+00\n",
      " -1.4728587e+00 -5.0834913e+00  5.7561815e-01 -1.8612543e-04]\n",
      "[1.4436631  0.10111903 0.0111918  0.09933801 0.00725664 0.01429465\n",
      " 0.01186404 0.01855633]\n"
     ]
    }
   ],
   "source": [
    "print(means)\n",
    "print(stds)"
   ]
  },
  {
   "cell_type": "code",
   "execution_count": 7,
   "metadata": {},
   "outputs": [],
   "source": [
    "# Let's reduce our dataset by dropping the first and last column.\n",
    "# We can do this easily by using array slicing, like so:\n",
    "reduced_data = data[:,1:7]\n",
    "\n",
    "# NB: the 7 at the tail end of the slice is not the last index to include. This dataset will contain\n",
    "# the data in column 1 of \"data\", up to but not including column 7. So the next effect is that\n",
    "# \"reduced_data\" will only have 6 columns."
   ]
  },
  {
   "cell_type": "code",
   "execution_count": 8,
   "metadata": {},
   "outputs": [
    {
     "name": "stdout",
     "output_type": "stream",
     "text": [
      "[ 0.7121292   0.04938938 -0.61670446 -0.14728588 -0.5083491   0.05756181]\n",
      "[0.0101119  0.00111918 0.0099338  0.00072566 0.00142947 0.0011864 ]\n"
     ]
    }
   ],
   "source": [
    "# Next, we'll normalize the data. We'll talk more about this in a future lecture.\n",
    "# The important take-away here is that you can perform scalar operations upon\n",
    "# a numpy array in bulk with one line. This line has the effect of dividing every\n",
    "# element in \"reduced_data\" by 10.\n",
    "normalized_data = (reduced_data) / 10\n",
    "\n",
    "# We'll then recalculate the mean and standard deviation. Note that, in this case, the approach of recalculating\n",
    "# all of the results:\n",
    "norm_means = np.empty(6, 'float32')\n",
    "norm_stds = np.empty(6, 'float32')\n",
    "\n",
    "for i in range(6):\n",
    "    norm_means[i] = np.average(normalized_data[:,i])\n",
    "    norm_stds[i] = np.std(normalized_data[:,i])\n",
    "    \n",
    "print(norm_means)\n",
    "print(norm_stds)\n",
    "    "
   ]
  },
  {
   "cell_type": "code",
   "execution_count": 9,
   "metadata": {},
   "outputs": [
    {
     "name": "stdout",
     "output_type": "stream",
     "text": [
      "[ 0.7121291   0.04938937 -0.61670446 -0.14728586 -0.5083491   0.05756181]\n",
      "[0.0101119  0.00111918 0.0099338  0.00072566 0.00142947 0.0011864 ]\n"
     ]
    }
   ],
   "source": [
    "# And simply normalizing the already calculated statistics for the relevant columns\n",
    "\n",
    "norm_means2 = means[1:7] / 10\n",
    "norm_std2 = stds[1:7] / 10\n",
    "\n",
    "print(norm_means2)\n",
    "print(norm_std2)"
   ]
  },
  {
   "cell_type": "code",
   "execution_count": 10,
   "metadata": {},
   "outputs": [],
   "source": [
    "# Gives the exact same result."
   ]
  },
  {
   "cell_type": "code",
   "execution_count": 11,
   "metadata": {},
   "outputs": [
    {
     "data": {
      "text/plain": [
       "<Figure size 640x480 with 1 Axes>"
      ]
     },
     "metadata": {},
     "output_type": "display_data"
    }
   ],
   "source": [
    "# Now, we'll demonstrate plotting data. To do this, we'll import\n",
    "# matplotlib using the following statement.\n",
    "from matplotlib import pyplot as plt\n",
    "\n",
    "\n",
    "# We dropped time from our dataset, so let's create an array\n",
    "# containing time in millseconds (otherwise known, in this case,\n",
    "# as the array indices) to use as our independent variable.\n",
    "time = list(range(len(normalized_data[:,0])))\n",
    "\n",
    "# To create a scatter plot of the data in column 0, \n",
    "# call plt.scatter(), setup title and axes, and then\n",
    "# use plt.show() to display the result.\n",
    "plt.scatter(time, normalized_data[:,0], marker='x')\n",
    "plt.title('Voltage vs. Time, Strain Gauge 0')\n",
    "plt.xlabel('Time (ms)')\n",
    "plt.ylabel('Voltage (V)')\n",
    "plt.show()"
   ]
  },
  {
   "cell_type": "code",
   "execution_count": 12,
   "metadata": {},
   "outputs": [
    {
     "name": "stderr",
     "output_type": "stream",
     "text": [
      "C:\\Users\\Rodda Ouma\\Anaconda4\\lib\\site-packages\\matplotlib\\axes\\_axes.py:6462: UserWarning: The 'normed' kwarg is deprecated, and has been replaced by the 'density' kwarg.\n",
      "  warnings.warn(\"The 'normed' kwarg is deprecated, and has been \"\n",
      "C:\\Users\\Rodda Ouma\\Anaconda4\\lib\\site-packages\\ipykernel_launcher.py:20: MatplotlibDeprecationWarning: scipy.stats.norm.pdf\n"
     ]
    },
    {
     "data": {
      "image/png": "[encoded data removed]",
      "text/plain": [
       "<Figure size 432x288 with 1 Axes>"
      ]
     },
     "metadata": {},
     "output_type": "display_data"
    }
   ],
   "source": [
    "# Here is the code to create a histogram of the data, using matplotlib.\n",
    "\n",
    "import matplotlib.mlab as mlab\n",
    "import scipy.stats as stats\n",
    "\n",
    "# A parameter to define which column is plotted. Change this to update what \n",
    "# histogram is generated.\n",
    "column = 1\n",
    "\n",
    "# Create the histogram. In this case, we use 200 bins and normalize\n",
    "# the results. Typically, you want to normalize (normed=1) to ensure\n",
    "# the appropriate scale.\n",
    "n, bins, patches = plt.hist(normalized_data[:,column], 200, normed=1)\n",
    "\n",
    "# We can also overlay a line graph of the expected normal distribution\n",
    "# over our histogram.\n",
    "\n",
    "# Create an array of the values of the normal dist with the appropriate\n",
    "# mean and standard deviation.\n",
    "expected = mlab.normpdf(bins, norm_means[column], norm_stds[column])\n",
    "\n",
    "# Plot the distribution as a red, dashed line.\n",
    "plt.plot(bins, expected, 'r--')\n",
    "\n",
    "# Format axes and title, and display the plot.\n",
    "plt.title(\"Histogram of SG1 Voltages\")\n",
    "plt.xlabel(\"Value (V)\")\n",
    "plt.ylabel(\"Frequency\")\n",
    "plt.show()"
   ]
  },
  {
   "cell_type": "code",
   "execution_count": 13,
   "metadata": {},
   "outputs": [
    {
     "data": {
      "image/png": "[encoded data removed]",
      "text/plain": [
       "<Figure size 432x288 with 1 Axes>"
      ]
     },
     "metadata": {},
     "output_type": "display_data"
    }
   ],
   "source": [
    "# This is the code to create a normal Q-Q plot. This is a technique that you\n",
    "# can use to determine how well matched two distributions are. In this case, \n",
    "# we plot the quantiles of one of our columns against its associated normal\n",
    "# distribution.\n",
    "\n",
    "# Play around with which column is plotted (change the column variable in the cell above \n",
    "# this one) and compare histograms with Q-Q plots.\n",
    "stats.probplot(normalized_data[:,column], dist=\"norm\", plot=plt)\n",
    "plt.title(\"Normalized QQ Plot for SGX\")\n",
    "plt.show()"
   ]
  },
  {
   "cell_type": "code",
   "execution_count": 14,
   "metadata": {},
   "outputs": [
    {
     "data": {
      "image/png": "[encoded data removed]",
      "text/plain": [
       "<Figure size 432x288 with 1 Axes>"
      ]
     },
     "metadata": {},
     "output_type": "display_data"
    }
   ],
   "source": [
    "# If you want to create evenly space values between two numbers,\n",
    "# a process very common when plotting functions, you can use the\n",
    "# linspace function. This will return an array containing numbers \n",
    "# that run from the first argument to the second. The third argument\n",
    "# specifies the number of evenly spaced values to include between the \n",
    "# first and second.\n",
    "vals = np.linspace(0, 1, 1000)\n",
    "\n",
    "# Define a function to plot\n",
    "def f(x):\n",
    "    return x**3 + np.sin(x)\n",
    "\n",
    "# Evaluate the function at each value output by linspace, \n",
    "# and plot the two arrays against each other.\n",
    "plt.scatter(vals, f(vals))\n",
    "plt.title('Example of Plotting a Function')\n",
    "plt.xlabel('X')\n",
    "plt.ylabel('f(x)')\n",
    "plt.show()"
   ]
  },
  {
   "cell_type": "code",
   "execution_count": null,
   "metadata": {},
   "outputs": [],
   "source": []
  },
  {
   "cell_type": "code",
   "execution_count": null,
   "metadata": {},
   "outputs": [],
   "source": []
  }
 ],
 "metadata": {
  "kernelspec": {
   "display_name": "Python 3",
   "language": "python",
   "name": "python3"
  },
  "language_info": {
   "codemirror_mode": {
    "name": "ipython",
    "version": 3
   },
   "file_extension": ".py",
   "mimetype": "text/x-python",
   "name": "python",
   "nbconvert_exporter": "python",
   "pygments_lexer": "ipython3",
   "version": "3.6.5"
  }
 },
 "nbformat": 4,
 "nbformat_minor": 2
}
